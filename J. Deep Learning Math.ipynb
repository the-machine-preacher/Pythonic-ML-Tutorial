{
 "cells": [
  {
   "cell_type": "markdown",
   "id": "48efc8a5",
   "metadata": {},
   "source": [
    "<img src=\"Images/atom.png\" alt=\"Atom\" style=\"width:60px\" align=\"left\" vertical-align=\"middle\">\n",
    "\n",
    "## 1. Introduction\n",
    "*in Machine Learning*\n",
    "\n",
    "----\n",
    "Before we dive into creating our deep learning models, let’s take a step back and unbox the mechanisms of these models. In this lesson, we will investigate the foundations that run through the inner workings of neural networks. Hopefully, after reading about the steps our data takes on its deep learning journey, you will have a clearer picture of the overall process and feel ready to get your hands on some code!\n",
    "\n",
    "<br/>We are not going to assume that you have a deep understanding of linear algebra, and you will not need a high-level math background to follow along.\n",
    "\n",
    "<br/>Let’s take a look at the cartoon in the learning environment. Deep learning is commonly viewed as a jumbled mess of linear algebra which this cartoon pokes fun at.\n",
    "\n",
    "<img src=\"Images/machine_learning_cartoon.png\" style=\"width:500px\">\n",
    "\n",
    "<br/>In this lesson, we hope to clarify the fundamental concepts that make deep learning possible, so you can build your own learning models with more precision than “pour the data into this big pile of linear algebra.”"
   ]
  },
  {
   "cell_type": "markdown",
   "id": "6b6685c9",
   "metadata": {},
   "source": [
    "<img src=\"Images/atom.png\" alt=\"Atom\" style=\"width:60px\" align=\"left\" vertical-align=\"middle\">\n",
    "\n",
    "## 2. Scalars, Vectors, and Matrices\n",
    "*in Machine Learning*\n",
    "\n",
    "----\n",
    "To start, let us go over a couple of topics that will be integral to understanding the mathematical operations that are present in deep learning, including how data is represented:\n",
    "\n",
    "<br/>*Scalars:* A scalar is a single quantity that you can think of as a number. In machine learning models, we can use scalar quantities to manipulate data, and we often modify them to improve our model’s accuracy. We can also represent data as scalar values depending on what dataset we are working with.\n",
    "\n",
    "<br/>*Example:*"
   ]
  },
  {
   "cell_type": "code",
   "execution_count": 3,
   "id": "e3ec1849",
   "metadata": {},
   "outputs": [
    {
     "name": "stdout",
     "output_type": "stream",
     "text": [
      "5\n"
     ]
    }
   ],
   "source": [
    "x = 5\n",
    "print(x)"
   ]
  },
  {
   "cell_type": "code",
   "execution_count": null,
   "id": "6f05e2d3",
   "metadata": {},
   "outputs": [],
   "source": []
  }
 ],
 "metadata": {
  "kernelspec": {
   "display_name": "Python 3 (ipykernel)",
   "language": "python",
   "name": "python3"
  },
  "language_info": {
   "codemirror_mode": {
    "name": "ipython",
    "version": 3
   },
   "file_extension": ".py",
   "mimetype": "text/x-python",
   "name": "python",
   "nbconvert_exporter": "python",
   "pygments_lexer": "ipython3",
   "version": "3.10.6"
  }
 },
 "nbformat": 4,
 "nbformat_minor": 5
}

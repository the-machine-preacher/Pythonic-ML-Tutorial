{
 "cells": [
  {
   "cell_type": "markdown",
   "id": "a54a32da",
   "metadata": {},
   "source": [
    "<img src=\"Images/atom.png\" alt=\"Atom\" style=\"width:60px\" align=\"left\" vertical-align=\"middle\">\n",
    "\n",
    "## 1. Representing Points\n",
    "*in Machine Learning*\n",
    "\n",
    "----\n",
    "In this lesson, you will learn three different ways to define the distance between two points:\n",
    "1. Euclidean Distance\n",
    "2. Manhattan Distance\n",
    "3. Hamming Distance\n",
    "\n",
    "<br/>Before diving into the distance formulas, it is first important to consider how to represent points in your code.\n",
    "\n",
    "<br/>In this exercise, we will use a list, where each item in the list represents a dimension of the point. For example, the point (5, 8) could be represented in Python like this:"
   ]
  },
  {
   "cell_type": "code",
   "execution_count": 1,
   "id": "a1169ed0",
   "metadata": {},
   "outputs": [],
   "source": [
    "pt1 = [5, 8]"
   ]
  },
  {
   "cell_type": "markdown",
   "id": "27fe7aa3",
   "metadata": {},
   "source": [
    "Points aren’t limited to just two dimensions. For example, a five-dimensional point could be represented as `[4, 8, 15, 16, 23]`.\n",
    "\n",
    "<br/>Ultimately, we want to find the distance between two points. We’ll be writing functions that look like this:"
   ]
  },
  {
   "cell_type": "code",
   "execution_count": null,
   "id": "9eac9a3e",
   "metadata": {},
   "outputs": [],
   "source": [
    "distance([1, 2, 3], [5, 8, 9])"
   ]
  },
  {
   "cell_type": "markdown",
   "id": "80b254d0",
   "metadata": {},
   "source": [
    "*Exercise:*\n",
    "<br/>Create a new point named four_d that has four dimensions."
   ]
  },
  {
   "cell_type": "code",
   "execution_count": 2,
   "id": "2613056a",
   "metadata": {},
   "outputs": [],
   "source": [
    "two_d = [10, 2]\n",
    "four_d = [1, 2, 5, 90]\n",
    "five_d = [30, -1, 50, 0, 2]"
   ]
  },
  {
   "cell_type": "markdown",
   "id": "42013702",
   "metadata": {},
   "source": [
    "<img src=\"Images/atom.png\" alt=\"Atom\" style=\"width:60px\" align=\"left\" vertical-align=\"middle\">\n",
    "\n",
    "## 2. Euclidean Distance\n",
    "*in Machine Learning*\n",
    "\n",
    "----\n",
    "Euclidean Distance is the most commonly used distance formula. To find the Euclidean distance between two points, we first calculate the squared distance between each dimension. If we add up all of these squared differences and take the square root, we’ve computed the Euclidean distance.\n",
    "\n",
    "<br/>Let’s take a look at the equation that represents what we just learned:\n",
    "<center>$ \\sqrt{(a_1-b_1)^2+(a_2-b_2)^2+...+(a_n-b_n)^2} $</center>\n",
    "\n",
    "<br/>The image below shows a visual of Euclidean distance being calculated:\n",
    "<img src=\"Images/Euclidean_Distance_Formula_1.png\" style=\"width:500px\">\n",
    "\n",
    "<br/>*Exercise:*\n",
    "1. Create a function named `euclidean_distance()` that takes two lists as parameters named `pt1` and `pt2`. In the function, create a variable named `distance`, set it equal to `0`, and return `distance`."
   ]
  },
  {
   "cell_type": "code",
   "execution_count": 3,
   "id": "3a91de8f",
   "metadata": {},
   "outputs": [],
   "source": [
    "def euclidean_distance(pt1, pt2):\n",
    "    distance = 0\n",
    "    return distance"
   ]
  },
  {
   "cell_type": "markdown",
   "id": "620798dc",
   "metadata": {},
   "source": [
    "2. After defining distance, create a `for` loop to loop through the dimensions of each point. Add the squared difference between each dimension to `distance`. Remember, in Python, you can square the variable `num` by using `num ** 2`."
   ]
  },
  {
   "cell_type": "code",
   "execution_count": 4,
   "id": "21ae7dac",
   "metadata": {},
   "outputs": [],
   "source": [
    "def euclidean_distance(pt1, pt2):\n",
    "    distance = 0\n",
    "    for a, b in zip(pt1, pt2): distance += (a-b)**2\n",
    "    return distance"
   ]
  },
  {
   "cell_type": "markdown",
   "id": "19ca90cb",
   "metadata": {},
   "source": [
    "3. Outside of the `for` loop, take the square root of distance and return that value."
   ]
  },
  {
   "cell_type": "code",
   "execution_count": 5,
   "id": "1bf565a8",
   "metadata": {},
   "outputs": [],
   "source": [
    "def euclidean_distance(pt1, pt2):\n",
    "    distance = 0\n",
    "    for a, b in zip(pt1, pt2): distance += (a-b)**2\n",
    "    return distance**0.5"
   ]
  },
  {
   "cell_type": "markdown",
   "id": "02590423",
   "metadata": {},
   "source": [
    "4. Print the Euclidean distance between `[1, 2]` and `[4, 0]`. Add another print statement which shows the Euclidean distance between `[5, 4, 3]` and `[1, 7, 9]`."
   ]
  },
  {
   "cell_type": "code",
   "execution_count": 6,
   "id": "ed854f30",
   "metadata": {},
   "outputs": [
    {
     "name": "stdout",
     "output_type": "stream",
     "text": [
      "3.605551275463989\n",
      "7.810249675906654\n"
     ]
    }
   ],
   "source": [
    "print(euclidean_distance([1, 2], [4, 0]))\n",
    "print(euclidean_distance([5, 4, 3], [1, 7, 9]))"
   ]
  },
  {
   "cell_type": "markdown",
   "id": "ea7c77f7",
   "metadata": {},
   "source": [
    "<img src=\"Images/atom.png\" alt=\"Atom\" style=\"width:60px\" align=\"left\" vertical-align=\"middle\">\n",
    "\n",
    "## 3. Manhattan Distance\n",
    "*in Machine Learning*\n",
    "\n",
    "----\n",
    "Manhattan Distance is extremely similar to Euclidean distance. Rather than summing the squared difference between each dimension, we instead sum the absolute value of the difference between each dimension. It’s called Manhattan distance because it’s similar to how you might navigate when walking city blocks. If you’ve ever wondered “how many blocks will it take me to get from point A to point B”, you’ve computed the Manhattan distance.\n",
    "\n",
    "<br/>The equation is shown below:\n",
    "<center>$ |a_1-b_1|+|a_2-b_2|+...+|a_n-b_n| $</center>\n",
    "\n",
    "<br/>Note that Manhattan distance will always be greater than or equal to Euclidean distance. Take a look at the image below visualizing Manhattan Distance:\n",
    "<img src=\"Images/Manhattan_Distance_Formula_1.png\" style=\"width:500px\">\n",
    "\n",
    "<br/>*Exercise:*\n",
    "<br/>1. Create a function called `manhattan_distance()` that takes two lists named `pt1` and `pt2` as parameters. In the function, create a variable named `distance`, set it equal to `0`, and return it."
   ]
  },
  {
   "cell_type": "code",
   "execution_count": 7,
   "id": "67bc02f7",
   "metadata": {},
   "outputs": [],
   "source": [
    "def manhattan_distance(pt1, pt2):\n",
    "    distance = 0\n",
    "    return distance"
   ]
  },
  {
   "cell_type": "markdown",
   "id": "d46eab64",
   "metadata": {},
   "source": [
    "2. After defining distance, create a `for` loop to loop through the dimensions of each point. Add the absolute value of the difference between each dimension to `distance`. Remember, in Python, you can take the absolute value of `num` by using `abs(num)`."
   ]
  },
  {
   "cell_type": "code",
   "execution_count": 8,
   "id": "59f8b718",
   "metadata": {},
   "outputs": [],
   "source": [
    "def manhattan_distance(pt1, pt2):\n",
    "    distance = 0\n",
    "    for a, b, in zip(pt1, pt2): distance += abs(a-b)\n",
    "    return distance"
   ]
  },
  {
   "cell_type": "markdown",
   "id": "63a8334b",
   "metadata": {},
   "source": [
    "3. You’re done with `manhattan_distance()`! Go ahead and find the Manhattan distance between the same points as last time. Below the print statements for Euclidean distance, print the Manhattan distance between `[1, 2]` and `[4, 0]`. Also print the Manhattan distance between `[5, 4, 3]` and `[1, 7, 9]`."
   ]
  },
  {
   "cell_type": "code",
   "execution_count": 9,
   "id": "aef650e7",
   "metadata": {},
   "outputs": [
    {
     "name": "stdout",
     "output_type": "stream",
     "text": [
      "5\n",
      "13\n"
     ]
    }
   ],
   "source": [
    "print(manhattan_distance([1, 2], [4, 0]))\n",
    "print(manhattan_distance([5, 4, 3], [1, 7, 9]))"
   ]
  },
  {
   "cell_type": "markdown",
   "id": "58a9a9b8",
   "metadata": {},
   "source": [
    "<img src=\"Images/atom.png\" alt=\"Atom\" style=\"width:60px\" align=\"left\" vertical-align=\"middle\">\n",
    "\n",
    "## 4. Hamming Distance\n",
    "*in Machine Learning*\n",
    "\n",
    "----\n",
    "Hamming Distance is another slightly different variation on the distance formula. Instead of finding the difference of each dimension, Hamming distance only cares about whether the dimensions are exactly equal. When finding the Hamming distance between two points, add one for every dimension that has different values.\n",
    "\n",
    "<br/>Hamming distance is used in spell checking algorithms. For example, the Hamming distance between the word “there” and the typo “thete” is one. Each letter is a dimension, and each dimension has the same value except for one.\n",
    "\n",
    "<br/>*Exercise:*\n",
    "1. Define a function named `hamming_distance()` and have two parameters named `pt1` and `pt2`. Create a variable named `distance`, have it start at `0`, and return it."
   ]
  },
  {
   "cell_type": "code",
   "execution_count": 10,
   "id": "f8db2a2d",
   "metadata": {},
   "outputs": [],
   "source": [
    "def hamming_distance(pt1, pt2):\n",
    "    distance = 0\n",
    "    return distance"
   ]
  },
  {
   "cell_type": "markdown",
   "id": "51aceca7",
   "metadata": {},
   "source": [
    "2. After defining distance, create a `for` loop to loop through the dimensions of each point. If the values at each dimension are different, add `1` to `distance`."
   ]
  },
  {
   "cell_type": "code",
   "execution_count": 11,
   "id": "942d2a26",
   "metadata": {},
   "outputs": [],
   "source": [
    "def hamming_distance(pt1, pt2):\n",
    "    distance = 0\n",
    "    for a, b in zip(pt1, pt2):\n",
    "        if a != b: distance += 1\n",
    "    return distance"
   ]
  },
  {
   "cell_type": "markdown",
   "id": "bcc943a8",
   "metadata": {},
   "source": [
    "3. `hamming_distance()` is done as well! Print the Hamming distance between `[1, 2]` and `[1, 100]`. Print the Hamming distance between `[5, 4, 9]` and `[1, 7, 9]`."
   ]
  },
  {
   "cell_type": "code",
   "execution_count": 12,
   "id": "aa3d3586",
   "metadata": {},
   "outputs": [
    {
     "name": "stdout",
     "output_type": "stream",
     "text": [
      "1\n",
      "2\n"
     ]
    }
   ],
   "source": [
    "print(hamming_distance([1, 2], [1, 100]))\n",
    "print(hamming_distance([5, 4, 9], [1, 7, 9]))"
   ]
  },
  {
   "cell_type": "markdown",
   "id": "b3325200",
   "metadata": {},
   "source": [
    "*Hamming Distance: Uses*\n",
    "- If we’re interested in only the number of differences for an application, then we would prefer to have the implementation presented earlier in this lesson, that is, `HammingDistance = #` of differences. \n",
    "- However, sometimes we want to think about the percentage that one data item differs from another. In this case, SciPy's implementation, `HammingDistance = (# of differences)/(# of dimensions)`, is more helpful. \n",
    "- However, it’s simple to switch between the two implementations by multiplying or dividing by the number of dimensions. So we don’t need to pick one implementation over the other. We simply need to be aware of which version is implemented in the software that we’re using."
   ]
  },
  {
   "cell_type": "markdown",
   "id": "46bf7835",
   "metadata": {},
   "source": [
    "<img src=\"Images/atom.png\" alt=\"Atom\" style=\"width:60px\" align=\"left\" vertical-align=\"middle\">\n",
    "\n",
    "## 5. SciPy Distances\n",
    "*in Python*\n",
    "\n",
    "----\n",
    "Now that you’ve written these three distance formulas yourself, let’s look at how to use them using Python’s SciPy library:\n",
    "- Euclidean Distance `.euclidean()`\n",
    "- Manhattan Distance `.cityblock()`\n",
    "- Hamming Distance `.hamming()`\n",
    "\n",
    "<br/>There are a few noteworthy details to talk about:\n",
    "\n",
    "<br/>First, the `scipy` implementation of Manhattan distance is called `cityblock()`. Remember, computing Manhattan distance is like asking how many blocks away you are from a point.\n",
    "\n",
    "<br/>Second, the `scipy` implementation of Hamming distance will always return a number between `0` an `1`. Rather than summing the number of differences in dimensions, this implementation sums those differences and then divides by the total number of dimensions. For example, in your implementation, the Hamming distance between `[1, 2, 3]` and `[7, 2, -10]` would be 2. In `scipy`‘s version, it would be `2/3`.\n",
    "\n",
    "<br/>*Exercise:*\n",
    "<br/>1. Call `distance.euclidean()` using the points `[1, 2]` and `[4, 0]` as parameters. Print the result."
   ]
  },
  {
   "cell_type": "code",
   "execution_count": 17,
   "id": "8e50f16e",
   "metadata": {},
   "outputs": [
    {
     "name": "stdout",
     "output_type": "stream",
     "text": [
      "3.605551275463989\n"
     ]
    }
   ],
   "source": [
    "from scipy.spatial import distance\n",
    "print(distance.euclidean([1, 2], [4, 0]))"
   ]
  },
  {
   "cell_type": "markdown",
   "id": "595fecb5",
   "metadata": {},
   "source": [
    "2. Call `distance.cityblock()` using the points `[1, 2]` and `[4, 0]` as parameters. Print the result."
   ]
  },
  {
   "cell_type": "code",
   "execution_count": 18,
   "id": "108c3fe3",
   "metadata": {},
   "outputs": [
    {
     "name": "stdout",
     "output_type": "stream",
     "text": [
      "5\n"
     ]
    }
   ],
   "source": [
    "print(distance.cityblock([1, 2], [4, 0]))"
   ]
  },
  {
   "cell_type": "markdown",
   "id": "bb3466b6",
   "metadata": {},
   "source": [
    "3. Call `distance.hamming()` using `[5, 4, 9]` and `[1, 7, 9]` as parameters and print the results. Your answer *shouldn’t* match your function’s results. Remember, `scipy` divides by the number of dimensions."
   ]
  },
  {
   "cell_type": "code",
   "execution_count": 19,
   "id": "dd6904c8",
   "metadata": {},
   "outputs": [
    {
     "name": "stdout",
     "output_type": "stream",
     "text": [
      "0.6666666666666666\n"
     ]
    }
   ],
   "source": [
    "print(distance.hamming([5, 4, 9], [1, 7, 9]))"
   ]
  }
 ],
 "metadata": {
  "kernelspec": {
   "display_name": "Python 3 (ipykernel)",
   "language": "python",
   "name": "python3"
  },
  "language_info": {
   "codemirror_mode": {
    "name": "ipython",
    "version": 3
   },
   "file_extension": ".py",
   "mimetype": "text/x-python",
   "name": "python",
   "nbconvert_exporter": "python",
   "pygments_lexer": "ipython3",
   "version": "3.10.6"
  }
 },
 "nbformat": 4,
 "nbformat_minor": 5
}

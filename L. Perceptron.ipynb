{
 "cells": [
  {
   "cell_type": "markdown",
   "id": "fc666495",
   "metadata": {},
   "source": [
    "<img src=\"Images/atom.png\" alt=\"Atom\" style=\"width:60px\" align=\"left\" vertical-align=\"middle\">\n",
    "\n",
    "## 1. What is a Perceptron?\n",
    "*in Machine Learning*\n",
    "\n",
    "----\n",
    "Similar to how atoms are the building blocks of matter and how microprocessors are the building blocks of a computer, perceptrons are the building blocks of Neural Networks.\n",
    "\n",
    "<br/>If you look closely, you might notice that the word “perceptron” is a combination of two words:\n",
    "- *Perception* (noun) the ability to sense something\n",
    "- *Neuron* (noun) a nerve cell in the human brain that turns sensory input into meaningful information\n",
    "\n",
    "<br/>Therefore, the perceptron is an artificial neuron that simulates the task of a biological neuron to solve problems through its own “sense” of the world.\n",
    "\n",
    "<br/>Although the perceptron comes with its own artificial design and set of parameters, at its core, a single perceptron is trying to make a simple decision.\n",
    "\n",
    "<br/>Let’s take the example a simple self-driving car that is based on a perceptron. If there’s an obstacle on the left, the car would have to steer right. Similarly, if there’s an obstacle on the right, the car would have to steer left.\n",
    "\n",
    "<br/>For this example, a perceptron could take the position of the obstacle as inputs, and produce a decision — left turn or right turn — based on those inputs.\n",
    "\n",
    "<br/>And here’s the cool part — the perceptron can correct itself based on the result of its decision to make better decisions in the future!\n",
    "\n",
    "<br/>Of course, the real world scenario isn’t that simple. But if you combine a bunch of such perceptrons, you will get a neural network that can even make better decisions on your behalf!\n",
    "<img src=\"Images/perceptron.webp\" style=\"width:800px\">"
   ]
  },
  {
   "cell_type": "markdown",
   "id": "a0a7788e",
   "metadata": {},
   "source": [
    "<img src=\"Images/atom.png\" alt=\"Atom\" style=\"width:60px\" align=\"left\" vertical-align=\"middle\">\n",
    "\n",
    "## 2. Representing a Perceptron\n",
    "*in Machine Learning*\n",
    "\n",
    "----\n",
    "So the perceptron is an artificial neuron that can make a simple decision. Let’s implement one from scratch in Python!\n",
    "\n",
    "<br/>The perceptron has three main components:\n",
    "- *Inputs:* Each input corresponds to a feature. For example, in the case of a person, features could be age, height, weight, college degree, etc.\n",
    "- *Weights:* Each input also has a weight which assigns a certain amount of importance to the input. If an input’s weight is large, it means this input plays a bigger role in determining the output. For example, a team’s skill level will have a bigger weight than the average age of players in determining the outcome of a match.\n",
    "- *Output:* Finally, the perceptron uses the inputs and weights to produce an output. The type of the output varies depending on the nature of the problem. For example, to predict whether or not it’s going to rain, the output has to be binary — 1 for Yes and 0 for No. However, to predict the temperature for the next day, the range of the output has to be larger — say a number from 70 to 90.\n",
    "\n",
    "<br/>*Exercise:*\n",
    "1. Our `Perceptron` class by default takes two inputs and a pre-defined weight for each input. Complete the `__init__()` method inside the `Perceptron` class by creating instance variables `self.num_inputs` and `self.weights` that represent the attributes of a `Perceptron` object. Assign the parameters `num_inputs` and `weights` to `self.num_inputs` and `self.weights` respectively."
   ]
  },
  {
   "cell_type": "code",
   "execution_count": 1,
   "id": "aa9a4603",
   "metadata": {},
   "outputs": [],
   "source": [
    "class Perceptron:\n",
    "    def __init__(self, num_inputs=2, weights=[1,1]):\n",
    "        # complete the default constructor method\n",
    "        self.num_inputs = num_inputs\n",
    "        self.weights = weights"
   ]
  },
  {
   "cell_type": "markdown",
   "id": "70744910",
   "metadata": {},
   "source": [
    "2. Create a `Perceptron` object called `cool_perceptron` (without any arguments) and print it out to see what it looks like."
   ]
  },
  {
   "cell_type": "code",
   "execution_count": 2,
   "id": "b844d542",
   "metadata": {},
   "outputs": [
    {
     "name": "stdout",
     "output_type": "stream",
     "text": [
      "<__main__.Perceptron object at 0x000001C2C31588B0>\n"
     ]
    }
   ],
   "source": [
    "cool_perceptron = Perceptron()\n",
    "print(cool_perceptron)"
   ]
  },
  {
   "cell_type": "markdown",
   "id": "1ceb6aa5",
   "metadata": {},
   "source": [
    "<img src=\"Images/atom.png\" alt=\"Atom\" style=\"width:60px\" align=\"left\" vertical-align=\"middle\">\n",
    "\n",
    "## 3. Step 1: Weighted Sum\n",
    "*in Machine Learning*\n",
    "\n",
    "----\n",
    "Great! Now that you understand the structure of the perceptron, here’s an important question — how are the inputs and weights magically turned into an output? This is a two-step process, and the first step is finding the *weighted sum* of the inputs.\n",
    "\n",
    "What is the *weighted sum*? This is just a number that gives a reasonable representation of the inputs:\n",
    "> $ weighted sum=x_1w_1+x_2w_2+...+x_nw_n $\n",
    "\n",
    "<br/>The *x*‘s are the inputs and the *w*‘s are the weights.\n",
    "\n",
    "<br/>Here’s how we can implement it:\n",
    "- Start with a weighted sum of 0. Let’s call it `weighted_sum`.\n",
    "- Start with the first input and multiply it by its corresponding weight. Add this result to `weighted_sum`.\n",
    "- Go to the next input and multiply it by its corresponding weight. Add this result to `weighted_sum`.\n",
    "- Repeat this process for all inputs.\n",
    "\n",
    "<br/>*Exercise:*\n",
    "1. Create a variable called `weighted_sum` to hold the value of the weighted sum and set its starting value to `0`. Return `weighted_sum` outside the `for` loop."
   ]
  },
  {
   "cell_type": "code",
   "execution_count": 3,
   "id": "5a598754",
   "metadata": {},
   "outputs": [],
   "source": [
    "def weighted_sum(self, inputs):\n",
    "    # Create variable to store weighted sum\n",
    "    weighted_sum = 0\n",
    "    for i in range(self.num_inputs):\n",
    "        pass\n",
    "        # Complete this loop\n",
    "        return weighted_sum"
   ]
  },
  {
   "cell_type": "markdown",
   "id": "73658d64",
   "metadata": {},
   "source": [
    "2. Let’s go through each input-weight pair and find the weighted sum using indexing. Delete the `pass` statement inside the for loop. For each iteration in the loop, find the product of the input and weight at index `i`, add the result to `weighted_sum`, and store it back in `weighted_sum` to update the value of `weighted_sum`."
   ]
  },
  {
   "cell_type": "code",
   "execution_count": 11,
   "id": "a6cc493e",
   "metadata": {},
   "outputs": [],
   "source": [
    "class Perceptron:\n",
    "    def __init__(self, num_inputs=2, weights=[2,1]):\n",
    "        # complete the default constructor method\n",
    "        self.num_inputs = num_inputs\n",
    "        self.weights = weights\n",
    "    \n",
    "    def weighted_sum(self, inputs):\n",
    "        # create variable to store weighted sum\n",
    "        weighted_sum = 0\n",
    "        for i in range(self.num_inputs):\n",
    "            weighted_sum += self.weights[i]*inputs[i]\n",
    "        return weighted_sum"
   ]
  },
  {
   "cell_type": "markdown",
   "id": "ddff5484",
   "metadata": {},
   "source": [
    "3. Outside the `Perceptron` class, after the Perceptron object `cool_perceptron` has been created, print out the weighted sum for the inputs `[24, 55]`. What is the weighted sum?"
   ]
  },
  {
   "cell_type": "code",
   "execution_count": 12,
   "id": "7ac4e35b",
   "metadata": {},
   "outputs": [
    {
     "name": "stdout",
     "output_type": "stream",
     "text": [
      "103\n"
     ]
    }
   ],
   "source": [
    "cool_perceptron = Perceptron()\n",
    "print(cool_perceptron.weighted_sum([24, 55]))"
   ]
  },
  {
   "cell_type": "markdown",
   "id": "c190f72f",
   "metadata": {},
   "source": [
    "<img src=\"Images/atom.png\" alt=\"Atom\" style=\"width:60px\" align=\"left\" vertical-align=\"middle\">\n",
    "\n",
    "## 4. Step 2: Activation Function\n",
    "*in Machine Learning*\n",
    "\n",
    "----\n",
    "After finding the weighted sum, the second step is to *constrain the weighted sum* to produce a desired output.\n",
    "\n",
    "<br/>Why is that important? Imagine if a perceptron had inputs in the range of 100-1000 but the goal was to simply predict whether or not something would occur — `1` for “Yes” and `0` for “No”. This would result in a very large weighted sum.\n",
    "\n",
    "<br/>How can the perceptron produce a meaningful output in this case? This is exactly where *activation functions* come in! These are special functions that transform the weighted sum into a desired and constrained output.\n",
    "\n",
    "<br/>For example, if you want to train a perceptron to detect whether a point is above or below a line (which we will be doing in this lesson!), you might want the output to be a `+1` or `-1` label. For this task, you can use the “sign activation function” to help the perceptron make the decision:\n",
    "- If weighted sum is positive, return `+1`\n",
    "- If weighted sum is negative, return `-1`\n",
    "\n",
    "<br/>In this lesson, we will focus on using the sign activation function because it is the simplest way to get started with perceptrons and eventually visualize one in action.\n",
    "\n",
    "<br/>*Exercise:*\n",
    "1. Inside the `.activation()` method, return `1` if the `weighted_sum` is greater than or equal to `0`. Return `-1` if the `weighted_sum` is less than `0`."
   ]
  },
  {
   "cell_type": "code",
   "execution_count": 13,
   "id": "19b88a69",
   "metadata": {},
   "outputs": [],
   "source": [
    "class Perceptron:\n",
    "    def __init__(self, num_inputs=2, weights=[1,1]):\n",
    "        self.num_inputs = num_inputs\n",
    "        self.weights = weights\n",
    "    \n",
    "    def weighted_sum(self, inputs):\n",
    "        weighted_sum = 0\n",
    "        for i in range(self.num_inputs):\n",
    "            weighted_sum += self.weights[i]*inputs[i]\n",
    "        return weighted_sum\n",
    "  \n",
    "    def activation(self, weighted_sum):\n",
    "        #Complete this method\n",
    "        if weighted_sum >= 0: return 1\n",
    "        else: return -1"
   ]
  },
  {
   "cell_type": "markdown",
   "id": "7bccfbf9",
   "metadata": {},
   "source": [
    "3. Try it out for yourself! Print out the result of the method `.activation()` called on `cool_perceptron` if the weighted sum is `52`."
   ]
  },
  {
   "cell_type": "code",
   "execution_count": 14,
   "id": "d0ac0561",
   "metadata": {},
   "outputs": [
    {
     "name": "stdout",
     "output_type": "stream",
     "text": [
      "79\n",
      "1\n"
     ]
    }
   ],
   "source": [
    "cool_perceptron = Perceptron()\n",
    "print(cool_perceptron.weighted_sum([24, 55]))\n",
    "print(cool_perceptron.activation(52))"
   ]
  },
  {
   "cell_type": "markdown",
   "id": "302642c7",
   "metadata": {},
   "source": [
    "<img src=\"Images/atom.png\" alt=\"Atom\" style=\"width:60px\" align=\"left\" vertical-align=\"middle\">\n",
    "\n",
    "## 5. Training the Perceptron\n",
    "*in Machine Learning*\n",
    "\n",
    "----\n",
    "Our perceptron can now make a prediction given inputs, but how do we know if it gets those predictions right?\n",
    "\n",
    "<br/>Right now we expect the perceptron to be very bad because it has random weights. We haven’t taught it anything yet, so we can’t expect it to get classifications correct! The good news is that we can train the perceptron to produce better and better results! In order to do this, we provide the perceptron a training set — a collection of random inputs with correctly predicted outputs.\n",
    "\n",
    "<br/>On the right, you can see a plot of scattered points with positive and negative labels. This is a simple training set.\n",
    "\n",
    "<br/>In the code, the training set has been represented as a dictionary with coordinates as keys and labels as values. For example:"
   ]
  },
  {
   "cell_type": "code",
   "execution_count": 15,
   "id": "d9928766",
   "metadata": {},
   "outputs": [],
   "source": [
    "training_set = {(18, 49): -1, (2, 17): 1, (24, 35): -1, (14, 26): 1, (17, 34): -1}"
   ]
  },
  {
   "cell_type": "markdown",
   "id": "057ecc19",
   "metadata": {},
   "source": [
    "We can measure the perceptron’s actual performance against this training set. By doing so, we get a sense of “how bad” the perceptron is. The goal is to gradually nudge the perceptron — by slightly changing its weights — towards a better version of itself that correctly matches all the input-output pairs in the training set.\n",
    "\n",
    "<br/>We will use these points to train the perceptron to correctly separate the positive labels from the negative labels by visualizing the perceptron as a line. Stay tuned!"
   ]
  },
  {
   "cell_type": "code",
   "execution_count": 16,
   "id": "fe48ed18",
   "metadata": {},
   "outputs": [
    {
     "data": {
      "image/png": "[encoded data removed]",
      "text/plain": [
       "<Figure size 640x480 with 1 Axes>"
      ]
     },
     "metadata": {},
     "output_type": "display_data"
    }
   ],
   "source": [
    "import matplotlib.pyplot as plt\n",
    "import random\n",
    "\n",
    "def generate_training_set(num_points):\n",
    "\tx_coordinates = [random.randint(0, 50) for i in range(num_points)]\n",
    "\ty_coordinates = [random.randint(0, 50) for i in range(num_points)]\n",
    "\ttraining_set = dict()\n",
    "\tfor x, y in zip(x_coordinates, y_coordinates):\n",
    "\t\tif x <= 45-y: training_set[(x,y)] = 1\n",
    "\t\telif x > 45-y: training_set[(x,y)] = -1\n",
    "\treturn training_set\n",
    "\n",
    "training_set = generate_training_set(30)\n",
    "\n",
    "x_plus = []\n",
    "y_plus = []\n",
    "x_minus = []\n",
    "y_minus = []\n",
    "\n",
    "for data in training_set:\n",
    "\tif training_set[data] == 1:\n",
    "\t\tx_plus.append(data[0])\n",
    "\t\ty_plus.append(data[1])\n",
    "\telif training_set[data] == -1:\n",
    "\t\tx_minus.append(data[0])\n",
    "\t\ty_minus.append(data[1])\n",
    "    \n",
    "fig = plt.figure()\n",
    "ax = plt.axes(xlim=(-25, 75), ylim=(-25, 75))\n",
    "\n",
    "plt.scatter(x_plus, y_plus, marker = '+', c = 'green', s = 128, linewidth = 2)\n",
    "plt.scatter(x_minus, y_minus, marker = '_', c = 'red', s = 128, linewidth = 2)\n",
    "\n",
    "plt.title(\"Training Set\")\n",
    "plt.show()"
   ]
  },
  {
   "cell_type": "markdown",
   "id": "cecf06a3",
   "metadata": {},
   "source": [
    "<img src=\"Images/atom.png\" alt=\"Atom\" style=\"width:60px\" align=\"left\" vertical-align=\"middle\">\n",
    "\n",
    "## 6. Training Error\n",
    "*in Machine Learning*\n",
    "\n",
    "----\n",
    "Now that we have our training set, we can start feeding inputs into the perceptron and comparing the actual outputs against the expected labels!\n",
    "\n",
    "<br/>Every time the output mismatches the expected label, we say that the perceptron has made a *training error* — a quantity that measures “how bad” the perceptron is performing.\n",
    "\n",
    "<br/>As mentioned in the last exercise, the goal is to nudge the perceptron towards zero training error. The training error is calculated by subtracting the predicted label value from the actual label value.\n",
    "> $ training\\_error=actual\\_label−predicted\\_label $\n",
    "\n",
    "<br/>For each point in the training set, the perceptron either produces a `+1` or a `-1` (as we are using the Sign Activation Function). Since the labels are also a `+1` or a `-1`, there are four different possibilities for the error the perceptron makes:\n",
    "<img src=\"Images/training_error.png\" style=\"width:800px\">\n",
    "\n",
    "<br/>These training error values will be crucial in improving the perceptron’s performance as we will see in the upcoming exercises.\n",
    "\n",
    "<br/>*Exercise:*\n",
    "1. In the `.training()` method, let’s find the perceptron’s error on each inputs in `training_set`. First, we need the perceptron’s predicted output for a point. Inside the `for` loop, create a variable called `prediction` and assign it the correct label value using `.activation()`, `.weighted_sum()`, and `inputs` in a single statement."
   ]
  },
  {
   "cell_type": "code",
   "execution_count": 17,
   "id": "54895db3",
   "metadata": {},
   "outputs": [],
   "source": [
    "class Perceptron:\n",
    "    def __init__(self, num_inputs=2, weights=[1,1]):\n",
    "        self.num_inputs = num_inputs\n",
    "        self.weights = weights\n",
    "    \n",
    "    def weighted_sum(self, inputs):\n",
    "        weighted_sum = 0\n",
    "        for i in range(self.num_inputs): weighted_sum += self.weights[i]*inputs[i]\n",
    "        return weighted_sum\n",
    "  \n",
    "    def activation(self, weighted_sum):\n",
    "        if weighted_sum >= 0: return 1\n",
    "        if weighted_sum < 0: return -1\n",
    "    \n",
    "    def training(self, training_set):\n",
    "        for inputs in training_set: prediction = self.activation(self.weighted_sum(inputs))"
   ]
  },
  {
   "cell_type": "markdown",
   "id": "084eb1e1",
   "metadata": {},
   "source": [
    "2. Create a variable named `actual` and assign it the actual label for each `inputs` in `training_set`. Then create a variable called `error` and assign it the value of `actual - prediction`."
   ]
  },
  {
   "cell_type": "code",
   "execution_count": 18,
   "id": "d04ba7c8",
   "metadata": {},
   "outputs": [],
   "source": [
    "class Perceptron:\n",
    "    def __init__(self, num_inputs=2, weights=[1,1]):\n",
    "        self.num_inputs = num_inputs\n",
    "        self.weights = weights\n",
    "    \n",
    "    def weighted_sum(self, inputs):\n",
    "        weighted_sum = 0\n",
    "        for i in range(self.num_inputs): weighted_sum += self.weights[i]*inputs[i]\n",
    "        return weighted_sum\n",
    "  \n",
    "    def activation(self, weighted_sum):\n",
    "        if weighted_sum >= 0: return 1\n",
    "        if weighted_sum < 0: return -1\n",
    "    \n",
    "    def training(self, training_set):\n",
    "        for inputs in training_set: prediction = self.activation(self.weighted_sum(inputs))\n",
    "        actual = training_set[inputs]\n",
    "        error = actual - prediction"
   ]
  },
  {
   "cell_type": "markdown",
   "id": "ed6c8405",
   "metadata": {},
   "source": [
    "<img src=\"Images/atom.png\" alt=\"Atom\" style=\"width:60px\" align=\"left\" vertical-align=\"middle\">\n",
    "\n",
    "## 7. Tweaking the Weights\n",
    "*in Machine Learning*\n",
    "\n",
    "----\n",
    "What do we do once we have the errors for the perceptron? We slowly nudge the perceptron towards a better version of itself that eventually has zero error.\n",
    "\n",
    "<br/>The only way to do that is to change the parameters that define the perceptron. We can’t change the inputs so the only thing that can be tweaked are the weights. As we change the weights, the outputs change as well.\n",
    "\n",
    "<br/>The goal is to find the optimal combination of weights that will produce the correct output for as many points as possible in the dataset.\n",
    "<img src=\"Images/tweaking_the_weights.webp\" style=\"width:800px\">"
   ]
  },
  {
   "cell_type": "markdown",
   "id": "40090cb7",
   "metadata": {},
   "source": [
    "<img src=\"Images/atom.png\" alt=\"Atom\" style=\"width:60px\" align=\"left\" vertical-align=\"middle\">\n",
    "\n",
    "## 8. The Perceptron Algorithm\n",
    "*in Machine Learning*\n",
    "\n",
    "----\n",
    "But one question still remains — how do we tweak the weights optimally? We can’t just play around randomly with the weights until the correct combination magically pops up. There needs to be a way to guarantee that the perceptron improves its performance over time.\n",
    "\n",
    "<br/>This is where the *Perceptron Algorithm* comes in. The math behind why this works is outside the scope of this lesson, so we’ll directly apply the algorithm to optimally tweak the weights and nudge the perceptron towards zero error.\n",
    "\n",
    "<br/>The most important part of the algorithm is the update rule where the weights get updated:\n",
    "> $ weight=weight+(error∗input) $\n",
    "\n",
    "<br/>We keep on tweaking the weights until all possible labels are correctly predicted by the perceptron. This means that multiple passes might need to be made through the `training_set` before the Perceptron Algorithm comes to a halt.\n",
    "\n",
    "<br/>In this exercise, you will continue to work on the `.training()` method. We have made the following changes to this method from the last exercise:\n",
    "- `foundLine = False` (a boolean that indicates whether the perceptron has found a line to separate the positive and negative labels)\n",
    "- `while not foundLine:` (a while loop that continues to train the perceptron until the line is found)\n",
    "- `total_error = 0` (to count the total error the perceptron makes in each round)\n",
    "- `total_error += abs(error)` (to update the total error the perceptron makes in each round)\n",
    "\n",
    "<br/>*Exercise:*\n",
    "1. If the algorithm doesn’t find an error, the perceptron must have correctly predicted the labels for all points. Outside the `for` loop (but inside the `while` loop), change the value of `foundLine` to `True` if `total_error` equals `0`."
   ]
  },
  {
   "cell_type": "code",
   "execution_count": 23,
   "id": "f920cad7",
   "metadata": {},
   "outputs": [],
   "source": [
    "class Perceptron:\n",
    "    def __init__(self, num_inputs=2, weights=[1,1]):\n",
    "        self.num_inputs = num_inputs\n",
    "        self.weights = weights\n",
    "    \n",
    "    def weighted_sum(self, inputs):\n",
    "        weighted_sum = 0\n",
    "        for i in range(self.num_inputs): weighted_sum += self.weights[i]*inputs[i]\n",
    "        return weighted_sum\n",
    "  \n",
    "    def activation(self, weighted_sum):\n",
    "        if weighted_sum >= 0: return 1\n",
    "        if weighted_sum < 0: return -1\n",
    "    \n",
    "    def training(self, training_set):\n",
    "        foundLine = False\n",
    "        while not foundLine:\n",
    "            total_error = 0\n",
    "            for inputs in training_set:\n",
    "                prediction = self.activation(self.weighted_sum(inputs))\n",
    "                actual = training_set[inputs]\n",
    "                error = actual - prediction\n",
    "                total_error += abs(error)\n",
    "            if total_error == 0: foundLine = True"
   ]
  },
  {
   "cell_type": "markdown",
   "id": "e6ae5696",
   "metadata": {},
   "source": [
    "2. In order to update the weight for each inputs, create another `for` loop (inside the existing `for` loop) that iterates a loop variable `i` through a `range` of `self.num_inputs`. And inside the second `for` loop, update each weight `self.weights[i]` by applying the update rule:\n",
    "> $ weight=weight+(error∗inputs) $"
   ]
  },
  {
   "cell_type": "code",
   "execution_count": 21,
   "id": "09fa7758",
   "metadata": {},
   "outputs": [],
   "source": [
    "class Perceptron:\n",
    "    def __init__(self, num_inputs=2, weights=[1,1]):\n",
    "        self.num_inputs = num_inputs\n",
    "        self.weights = weights\n",
    "    \n",
    "    def weighted_sum(self, inputs):\n",
    "        weighted_sum = 0\n",
    "        for i in range(self.num_inputs): weighted_sum += self.weights[i]*inputs[i]\n",
    "        return weighted_sum\n",
    "  \n",
    "    def activation(self, weighted_sum):\n",
    "        if weighted_sum >= 0: return 1\n",
    "        if weighted_sum < 0: return -1\n",
    "    \n",
    "    def training(self, training_set):\n",
    "        foundLine = False\n",
    "        while not foundLine:\n",
    "            total_error = 0\n",
    "            for inputs in training_set:\n",
    "                prediction = self.activation(self.weighted_sum(inputs))\n",
    "                actual = training_set[inputs]\n",
    "                error = actual - prediction\n",
    "                total_error += abs(error)\n",
    "                for i in range(self.num_inputs): self.weights[i] = self.weights[i] + (error*inputs[i])\n",
    "            if total_error == 0: foundLine = True"
   ]
  },
  {
   "cell_type": "markdown",
   "id": "b651e767",
   "metadata": {},
   "source": [
    "3. Great job! Now give it a try for yourself. Train `cool_perceptron` using `small_training_set`. You can also print out the optimal weights to see for yourself!"
   ]
  },
  {
   "cell_type": "code",
   "execution_count": 22,
   "id": "1ad31022",
   "metadata": {},
   "outputs": [
    {
     "name": "stdout",
     "output_type": "stream",
     "text": [
      "[-5, 1]\n"
     ]
    }
   ],
   "source": [
    "cool_perceptron = Perceptron()\n",
    "small_training_set = {(0,3):1, (3,0):-1, (0,-3):-1, (-3,0):1}\n",
    "cool_perceptron.training(small_training_set)\n",
    "print(cool_perceptron.weights)"
   ]
  },
  {
   "cell_type": "markdown",
   "id": "cf236fa0",
   "metadata": {},
   "source": [
    "<img src=\"Images/atom.png\" alt=\"Atom\" style=\"width:60px\" align=\"left\" vertical-align=\"middle\">\n",
    "\n",
    "## 9. The Bias Weight\n",
    "*in Machine Learning*\n",
    "\n",
    "----\n",
    "You have understood that the perceptron can be trained to produce correct outputs by tweaking the regular weights.\n",
    "\n",
    "<br/>However, there are times when a minor adjustment is needed for the perceptron to be more accurate. This supporting role is played by the bias weight. It takes a default input value of 1 and some random weight value.\n",
    "\n",
    "<br/>So now the weighted sum equation should look like:\n",
    "> $ weighted\\_sum=x_1w_1+x_2w_2+...+x_nw_n+1w_b $\n",
    "\n",
    "<br/>How does this change the code so far? You only have to consider two small changes:\n",
    "- Add a 1 to the set of inputs (now there are 3 inputs instead of 2)\n",
    "- Add a bias weight to the list of weights (now there are 3 weights instead of 2)\n",
    "\n",
    "<br/>We’ll automatically make these replacements in the code so you should be good to go!"
   ]
  },
  {
   "cell_type": "code",
   "execution_count": 24,
   "id": "5249528f",
   "metadata": {},
   "outputs": [],
   "source": [
    "class Perceptron:\n",
    "    def __init__(self, num_inputs=3, weights=[1,1,1]):\n",
    "        self.num_inputs = num_inputs\n",
    "        self.weights = weights\n",
    "    \n",
    "    def weighted_sum(self, inputs):\n",
    "        weighted_sum = 0\n",
    "        for i in range(self.num_inputs): weighted_sum += self.weights[i]*inputs[i]\n",
    "        return weighted_sum\n",
    "  \n",
    "    def activation(self, weighted_sum):\n",
    "        if weighted_sum >= 0: return 1\n",
    "        if weighted_sum < 0: return -1\n",
    "    \n",
    "    def training(self, training_set):\n",
    "        foundLine = False\n",
    "        while not foundLine:\n",
    "            total_error = 0\n",
    "            for inputs in training_set:\n",
    "                prediction = self.activation(self.weighted_sum(inputs))\n",
    "                actual = training_set[inputs]\n",
    "                error = actual - prediction\n",
    "                total_error += abs(error)\n",
    "                for i in range(self.num_inputs): self.weights[i] = self.weights[i] + (error*inputs[i])\n",
    "            if total_error == 0: foundLine = True"
   ]
  },
  {
   "cell_type": "markdown",
   "id": "fa7dc7ab",
   "metadata": {},
   "source": [
    "<img src=\"Images/atom.png\" alt=\"Atom\" style=\"width:60px\" align=\"left\" vertical-align=\"middle\">\n",
    "\n",
    "## 10. Representing a Line\n",
    "*in Machine Learning*\n",
    "\n",
    "----\n",
    "So far so good! The perceptron works as expected, but everything seems to be taking place behind the scenes. What if we could visualize the perceptron’s training process to gain a better understanding of what’s going on?\n",
    "\n",
    "<br/>The weights change throughout the training process so if only we could meaningfully visualize those weights…\n",
    "\n",
    "<br/>Turns out we can! In fact, it gets better. The weights can actually be used to represent a line! This greatly simplifies our visualization.\n",
    "\n",
    "<br/>You might know that a line can be represented using the slope-intercept form. A perceptron’s weights can be used to find the slope and intercept of the line that the perceptron represents.\n",
    "- `slope = -self.weights[0]/self.weights[1]`\n",
    "- `intercept = -self.weights[2]/self.weights[1]`\n",
    "\n",
    "<br/>The explanation for these equations is beyond the scope of this lesson, so we’ll just use them to visualize the perceptron for now.\n",
    "\n",
    "<br/>In the plot below, you should be able to see a line that represents the perceptron in its first iteration of the training process.\n",
    "<img src=\"Images/perceptron_representing_a_line.webp\" style=\"width:800px\">"
   ]
  },
  {
   "cell_type": "markdown",
   "id": "dc30d6d4",
   "metadata": {},
   "source": [
    "<img src=\"Images/atom.png\" alt=\"Atom\" style=\"width:60px\" align=\"left\" vertical-align=\"middle\">\n",
    "\n",
    "## 11. Finding a Linear Classifier\n",
    "*in Machine Learning*\n",
    "\n",
    "----\n",
    "Let’s recap what you just learned!\n",
    "\n",
    "<br/>The perceptron has inputs, weights, and an output. The weights are parameters that define the perceptron and they can be used to represent a line. In other words, the perceptron can be visualized as a line.\n",
    "\n",
    "<br/>What does it mean for the perceptron to correctly classify every point in the training set?\n",
    "\n",
    "<br/>Theoretically, it means that the perceptron predicted every label correctly.\n",
    "\n",
    "<br/>Visually, it means that the perceptron found a *linear classifier*, or a *decision boundary*, that separates the two distinct set of points in the training set.\n",
    "\n",
    "<br/>In the plot below, you should be able to see the *linear classifier* that was found by the perceptron in the last iteration of the training process.\n",
    "<img src=\"Images/finding_a_linear_classifier.gif\" style=\"width:800px\">"
   ]
  },
  {
   "cell_type": "markdown",
   "id": "5af363df",
   "metadata": {},
   "source": [
    "<img src=\"Images/atom.png\" alt=\"Atom\" style=\"width:60px\" align=\"left\" vertical-align=\"middle\">\n",
    "\n",
    "## 12. What's Next? Neural Networks\n",
    "*in Machine Learning*\n",
    "\n",
    "----\n",
    "Congratulations! You have now built your own perceptron from scratch.\n",
    "\n",
    "<br/>Let’s step back and think about what you just accomplished and see if there are any limits to a single perceptron.\n",
    "\n",
    "<br/>Earlier, the data points in the training set were *linearly separable* i.e. a single line could easily separate the two dissimilar sets of points.\n",
    "\n",
    "<br/>What would happen if the data points were scattered in such a way that a line could no longer classify the points? A single perceptron with only two inputs wouldn’t work for such a scenario because it cannot represent a non-linear decision boundary.\n",
    "\n",
    "<br/>That’s when more perceptrons and features come into play!\n",
    "\n",
    "<br/>By increasing the number of features and perceptrons, we can give rise to the Multilayer Perceptrons, also known as Neural Networks, which can solve much more complicated problems.\n",
    "\n",
    "<br/>With a solid understanding of perceptrons, you are now ready to dive into the incredible world of Neural Networks!\n",
    "<img src=\"Images/neural-net-image.svg\" style=\"width:800px\">"
   ]
  }
 ],
 "metadata": {
  "kernelspec": {
   "display_name": "Python 3 (ipykernel)",
   "language": "python",
   "name": "python3"
  },
  "language_info": {
   "codemirror_mode": {
    "name": "ipython",
    "version": 3
   },
   "file_extension": ".py",
   "mimetype": "text/x-python",
   "name": "python",
   "nbconvert_exporter": "python",
   "pygments_lexer": "ipython3",
   "version": "3.10.6"
  }
 },
 "nbformat": 4,
 "nbformat_minor": 5
}

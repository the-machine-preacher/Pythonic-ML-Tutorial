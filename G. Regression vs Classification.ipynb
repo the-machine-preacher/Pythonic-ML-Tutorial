{
 "cells": [
  {
   "cell_type": "markdown",
   "id": "d9f3d07a",
   "metadata": {},
   "source": [
    "<img src=\"Images/atom.png\" alt=\"Atom\" style=\"width:60px\" align=\"left\" vertical-align=\"middle\">\n",
    "\n",
    "## 1. Regression vs. Classification\n",
    "*in Machine Learning*\n",
    "\n",
    "----\n",
    "Machine Learning is a set of many different techniques that are each suited to answering different types of questions.\n",
    "\n",
    "One way of categorizing machine learning algorithms is by using the kind output they produce. In terms of output, two main types of machine learning models exist: those for regression and those for classification."
   ]
  },
  {
   "cell_type": "markdown",
   "id": "51a60396",
   "metadata": {},
   "source": [
    "<img src=\"Images/atom.png\" alt=\"Atom\" style=\"width:60px\" align=\"left\" vertical-align=\"middle\">\n",
    "\n",
    "## 2. Regression\n",
    "*in Machine Learning*\n",
    "\n",
    "----\n",
    "Regression is used to predict outputs that are *continuous.* The outputs are quantities that can be flexibly determined based on the inputs of the model rather than being confined to a set of possible labels.\n",
    "\n",
    "<br/>For example:\n",
    "- Predict the height of a potted plant from the amount of rainfall\n",
    "- Predict salary based on someone’s age and availability of high-speed internet\n",
    "- Predict a car’s MPG (miles per gallon) based on size and model year\n",
    "<img src=\"Images/regression.webp\" style=\"width:500px\" align=\"middle\">\n",
    "\n",
    "<br/>Linear regression is the most popular regression algorithm. It is often underrated because of its relative simplicity. In a business setting, it could be used to predict the likelihood that a customer will churn or the revenue a customer will generate. More complex models may fit this data better, at the cost of losing simplicity."
   ]
  },
  {
   "cell_type": "markdown",
   "id": "3ed73659",
   "metadata": {},
   "source": [
    "<img src=\"Images/atom.png\" alt=\"Atom\" style=\"width:60px\" align=\"left\" vertical-align=\"middle\">\n",
    "\n",
    "## 3. Classification\n",
    "*in Machine Learning*\n",
    "\n",
    "----\n",
    "Classification is used to predict a *discrete label.* The outputs fall under a finite set of possible outcomes. Many situations have only two possible outcomes. This is called *binary classification* (True/False, 0 or 1).\n",
    "\n",
    "<br/>For example:\n",
    "- Predict whether an email is spam or not\n",
    "- Predict whether it will rain or not\n",
    "- Predict whether a user is a power user or a casual user\n",
    "\n",
    "<br/>There are also two other common types of classification: *multi-class classification* and *multi-label classification.*\n",
    "\n",
    "<br/>Multi-class classification has the same idea behind binary classification, except instead of two possible outcomes, there are three or more.\n",
    "\n",
    "<br/>For example:\n",
    "- Predict whether a photo contains a pear, apple, or peach\n",
    "- Predict what letter of the alphabet a handwritten character is\n",
    "- Predict whether a piece of fruit is small, medium, or large\n",
    "<img src=\"Images/classification.webp\" style=\"width:500px\" align=\"middle\">\n",
    "\n",
    "<br/>An important note about binary and multi-class classification is that in both, each outcome has one specific label. However, in multi-label classification, there are multiple possible labels for each outcome. This is useful for customer segmentation, image categorization, and sentiment analysis for understanding text. To perform these classifications, we use models like Naive Bayes, K-Nearest Neighbors, SVMs, as well as various deep learning models.\n",
    "\n",
    "<br/>An example of multi-label classification is shown below. Here, a cat and a bird are both identified in a photo showing a classification model with more than one label as a result.\n",
    "<img src=\"Images/multilabel_classification.webp\" style=\"width:500px\" align=\"middle\">\n",
    "\n",
    "<br/>Choosing a model is a critical step in the Machine Learning process. It is important that the model fits the question at hand. When you choose the right model, you are already one step closer to getting meaningful and interesting results."
   ]
  }
 ],
 "metadata": {
  "kernelspec": {
   "display_name": "Python 3 (ipykernel)",
   "language": "python",
   "name": "python3"
  },
  "language_info": {
   "codemirror_mode": {
    "name": "ipython",
    "version": 3
   },
   "file_extension": ".py",
   "mimetype": "text/x-python",
   "name": "python",
   "nbconvert_exporter": "python",
   "pygments_lexer": "ipython3",
   "version": "3.10.6"
  }
 },
 "nbformat": 4,
 "nbformat_minor": 5
}

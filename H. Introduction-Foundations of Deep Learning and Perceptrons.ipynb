{
 "cells": [
  {
   "cell_type": "markdown",
   "id": "cdf818af",
   "metadata": {},
   "source": [
    "<img src=\"Images/atom.png\" alt=\"Atom\" style=\"width:60px\" align=\"left\" vertical-align=\"middle\">\n",
    "\n",
    "## 1. Foundations of Deep Learning and Perceptrons\n",
    "*in Machine Learning*\n",
    "\n",
    "----\n",
    "The goal of this unit is to grasp the foundational concepts of deep learning (DL). Through articles and interactive applets, you will gain an insight into the fundamentals of DL and move forward with knowledge of a powerful and widely used machine learning method. You will then investigate perceptrons as a prelude to the development of deep learning models to get yourself acquainted with the basic structure of a neural network in Python.\n",
    "\n",
    "<br/>After this unit, you will be able to:\n",
    "- Explain what deep learning is to a friend\n",
    "- Know different use cases for deep learning models\n",
    "- Trace the beginning-to-end path of data that journeys a neural network and understand the inner workings behind the journey\n",
    "- Decipher potential dangers for the use cases that involve deep learning models\n",
    "- Develop your own perceptron algorithms\n",
    "\n",
    "<br/>Happy coding!"
   ]
  },
  {
   "cell_type": "markdown",
   "id": "a298e15d",
   "metadata": {},
   "source": [
    "<img src=\"Images/atom.png\" alt=\"Atom\" style=\"width:60px\" align=\"left\" vertical-align=\"middle\">\n",
    "\n",
    "## 2. What is Deep Learning?\n",
    "*in Machine Learning*\n",
    "\n",
    "----\n",
    "Have you ever wondered what powers ChatGPT? What technology developers are using to create self-driving cars? How your phone can recognize faces? Why it seems like your photos app is better at recognizing your friends’ faces than even you can? What is behind all of this? Is it magic? Well, not exactly; it is a powerful technology called deep learning (DL). Let’s dive in and see what this is all about!"
   ]
  },
  {
   "cell_type": "markdown",
   "id": "e861ad4b",
   "metadata": {},
   "source": [
    "<img src=\"Images/atom.png\" alt=\"Atom\" style=\"width:60px\" align=\"left\" vertical-align=\"middle\">\n",
    "\n",
    "## 3. Deep Learning vs. Machine Learning\n",
    "*in Machine Learning*\n",
    "\n",
    "----\n",
    "First, let’s focus on learning. If you have come across machine learning before, you might be familiar with the concept of a learning model. Learning describes the process by which models analyze data and finds patterns. A machine learning algorithm learns from patterns to find the best representation of this data, which it then uses to make predictions about new data that it has never seen before.\n",
    "\n",
    "<br/>Deep learning is a subfield of machine learning, and the concept of learning is pretty much the same.\n",
    "- We create our model carefully\n",
    "- Throw relevant data at it\n",
    "- Train it on this data\n",
    "- Have it make predictions for data it has never seen\n",
    "\n",
    "<br/>Deep learning models are used with many different types of data, such as text, images, audio, and more, making them applicable to many different domains."
   ]
  },
  {
   "cell_type": "markdown",
   "id": "47fa6c86",
   "metadata": {},
   "source": [
    "<img src=\"Images/atom.png\" alt=\"Atom\" style=\"width:60px\" align=\"left\" vertical-align=\"middle\">\n",
    "\n",
    "## 4. What does “deep” mean?\n",
    "*in Machine Learning*\n",
    "\n",
    "----\n",
    "That leaves the question: what is this “deep” aspect of deep learning? It separates deep learning from typical machine learning models and why it is a powerful tool that is becoming more prevalent in today’s society.\n",
    "\n",
    "<br/>The deep part of deep learning refers to the numerous “layers” that transform data. This architecture mimics the structure of the brain, where each successive layer attempts to learn progressively complex patterns from the data fed into the model. This may seem a bit abstract, so let’s look at a concrete example, such as facial recognition. With facial recognition, a deep learning model takes in a photo as an input, and numerous layers perform specific steps to identify whose face is in the picture. The steps taken by each layer might be the following:\n",
    "- Find the face within the image using edge detection.\n",
    "- Analyze the facial features (eyes, nose, mouth, etc.).\n",
    "- Compare against faces within a repository.\n",
    "- Output a prediction!\n",
    "\n",
    "<img src=\"Images/facial_rec.gif\" style=\"width:500px\">\n",
    "\n",
    "<br/>This structure of many abstract layers makes deep learning incredibly powerful. Feeding high volumes of data into the model makes the connections between layers more intricate. Deep learning models tend to perform better with more massive amounts of data than other learning algorithms."
   ]
  },
  {
   "cell_type": "markdown",
   "id": "007a6e1f",
   "metadata": {},
   "source": [
    "<img src=\"Images/atom.png\" alt=\"Atom\" style=\"width:60px\" align=\"left\" vertical-align=\"middle\">\n",
    "\n",
    "## 5. High Volume of Data\n",
    "*in Machine Learning*\n",
    "\n",
    "----\n",
    "Notice that without large amounts of data, deep learning models are no more powerful (and maybe even less accurate) than less complex learning models. However, with large amounts of data, deep learning models can improve performance to the point that they outperform humans in tasks such as classifying objects or faces in images or driving. Deep learning is fundamentally a future learning system (also known as representation learning). It learns from raw data without human intervention. Hence, given massive amounts of data, a deep learning system will perform better than traditional machine learning systems that rely on feature extractions from developers.\n",
    "\n",
    "<img src=\"Images/Deep-learning-intro.png\" style=\"width:500px\">\n",
    "\n",
    "<br/>Autonomous vehicles, such as Tesla, have to process thousands, even millions of stop signs, to understand that cars are supposed to stop when they see a red hexagon with “Stop” written on them (and this is only for U.S. stop signs!). Think about the enormous number of situations a self-driving vehicle must train on to ensure safety."
   ]
  },
  {
   "cell_type": "markdown",
   "id": "51855af7",
   "metadata": {},
   "source": [
    "<img src=\"Images/atom.png\" alt=\"Atom\" style=\"width:60px\" align=\"left\" vertical-align=\"middle\">\n",
    "\n",
    "## 6. With Deep Learning Comes Deep Responsibility\n",
    "*in Machine Learning*\n",
    "\n",
    "----\n",
    "Even beyond identifying objects, deep learning models can generate audio and visual content that is deceivingly real. They can modify existing images, such as in [this cool applet](https://ganpaint.io/#) that allows you to add in trees or alter buildings in a set of photos. However, they can have a darker side. DL models can produce artificial media in which the identity of someone in an image, video, or audio is replaced with someone else. These are known as *deepfakes,* and they can have scary implications, such as financial fraud and the distribution of fake news and hoaxes.\n",
    "\n",
    "<img src=\"Images/Deepfake_example.gif\" style=\"width:500px\">"
   ]
  },
  {
   "cell_type": "markdown",
   "id": "4dbae4dc",
   "metadata": {},
   "source": [
    "<img src=\"Images/atom.png\" alt=\"Atom\" style=\"width:60px\" align=\"left\" vertical-align=\"middle\">\n",
    "\n",
    "## 7. Graphics Processing Units\n",
    "*in Machine Learning*\n",
    "\n",
    "----\n",
    "One final thing to note about deep learning is that with large amounts of data and layers of complexity, you may imagine that this takes a lot of time and processing power. That intuition would be correct. These models often require high-performance *GPUs* (graphics processing units) to run in a reasonable amount of time. These processors have a large memory bandwidth and can process multiple computations simultaneously. CPUs can run deep learning models as well; however, they will be much slower.\n",
    "\n",
    "<br/>The development of GPUs has been critical to the success of deep learning. It is interesting to note that one of the driving factors for this development was not the need for better deep learning tools, but the [demand for better video game graphics](https://techcrunch.com/2017/10/27/how-video-game-tech-makes-neural-networks-possible/). It just so happened that GPUs are perfect for processing large datasets. This makes them a perfect tool for learning models and has put deep learning specifically at the forefront of machine learning conversations.\n",
    "\n",
    "<br/>We have only just begun our dive into deep learning. Let’s keep digging in and see where our journey takes us!"
   ]
  }
 ],
 "metadata": {
  "kernelspec": {
   "display_name": "Python 3 (ipykernel)",
   "language": "python",
   "name": "python3"
  },
  "language_info": {
   "codemirror_mode": {
    "name": "ipython",
    "version": 3
   },
   "file_extension": ".py",
   "mimetype": "text/x-python",
   "name": "python",
   "nbconvert_exporter": "python",
   "pygments_lexer": "ipython3",
   "version": "3.10.6"
  }
 },
 "nbformat": 4,
 "nbformat_minor": 5
}
